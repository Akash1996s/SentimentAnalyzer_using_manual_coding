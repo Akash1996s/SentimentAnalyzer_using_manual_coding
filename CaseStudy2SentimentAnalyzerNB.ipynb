{
 "cells": [
  {
   "cell_type": "code",
   "execution_count": null,
   "metadata": {},
   "outputs": [],
   "source": [
    "## THis notebook contains instruction for both in-class and take home assignment\n"
   ]
  },
  {
   "cell_type": "code",
   "execution_count": null,
   "metadata": {},
   "outputs": [],
   "source": [
    "## Part 1 \n",
    "## Write a simple NB sentiment analyzer. \n",
    "## It will have 2 functions - train, and classify\n",
    "## IT will use the \"DemoClassPreprocess\"class for cleanup of text\n",
    "## I have given the training data for this sample. You need to convert it to appropriate form by calling DemoClassPreprocess"
   ]
  },
  {
   "cell_type": "code",
   "execution_count": 23,
   "metadata": {},
   "outputs": [],
   "source": [
    "import csv"
   ]
  },
  {
   "cell_type": "code",
   "execution_count": 33,
   "metadata": {},
   "outputs": [
    {
     "name": "stdout",
     "output_type": "stream",
     "text": [
      "[['i', 'like', 'this', 'movie', 'ending'], ['i', 'want', 'to', 'go', 'outside', 'as', 'the', 'weather', 'is', 'nice'], ['this', 'movie', 'is', 'apt', 'for', 'kids'], ['the', 'movie', 'is', 'great']]\n"
     ]
    }
   ],
   "source": [
    "print(labdata['positive'])"
   ]
  },
  {
   "cell_type": "code",
   "execution_count": 34,
   "metadata": {},
   "outputs": [
    {
     "name": "stdout",
     "output_type": "stream",
     "text": [
      "[['I', 'hate', 'this', 'movie'], ['this', 'movie', 'is', 'r', 'rated', 'and', 'hence', 'unsuitable', 'for', 'kids'], ['working', 'long', 'hours', 'is', 'not', 'necessarily', 'smart'], ['the', 'movie', 'was', 'atrocious']]\n"
     ]
    }
   ],
   "source": [
    "print(labdata['negative'])"
   ]
  },
  {
   "cell_type": "code",
   "execution_count": 117,
   "metadata": {},
   "outputs": [],
   "source": [
    "def train(labdata):\n",
    "    '''\n",
    "    This function trains all the data fed into labdata\n",
    "    Logic\n",
    "    train for each class. on each feature, if the feature already is present in ModelLabelled increment t\n",
    "    he count by 1/numDocs, else set to 1/NumDocs\n",
    "    This creates the ModelLabelled dictionary object of the kind\n",
    "    {\"word1\": {\"class1\":0.1, \"class2\": 0.3, ..}, \n",
    "    \"word2\": {\"class1\": 0.2, \"class2\": 0.3 ....} }\n",
    "    I like this movie ending:+ve\n",
    "    I like north indian food:+ve\n",
    "    I love italian food: +ve\n",
    "    I hate this movie: -ve\n",
    "    I do not like thai food: -ve\n",
    "    {\n",
    "    \"I\": {\"+ve\": 3/3, \"-ve\": 2/2},\n",
    "    \"hate\": {\"-ve\": 1/2}},\n",
    "    \"like\": {\"+ve\": 2/3, -ve\":1/2},\n",
    "    \"movie: {\"+ve\",1/3},\n",
    "    \"ending\": {\"+ve\":1/3}\n",
    "    }\n",
    "    \n",
    "    bigram:\n",
    "    \"^ I\" :\n",
    "    \"I Like\",\n",
    "    \"Like this\n",
    "    this movie\n",
    "    movie ending\n",
    "    ending $\n",
    "    }\n",
    "    \n",
    "    '''\n",
    "    pos = len(labdata['positive'])\n",
    "    neg = len(labdata['negative'])\n",
    "    ModelLabelled = {}\n",
    "    for sent in labdata['positive']:\n",
    "        for word in sent:\n",
    "            if word in ModelLabelled.keys():\n",
    "                if '+ve' in ModelLabelled[word]:\n",
    "                    ModelLabelled[word]['+ve'] +=1/pos\n",
    "                else:\n",
    "                    ModelLabelled[word] = {'+ve':1/pos}\n",
    "            else:\n",
    "                ModelLabelled[word] = {'+ve':1/pos}\n",
    "    \n",
    "    for sent in labdata['negative']:\n",
    "        for word in sent:\n",
    "            if word in ModelLabelled:\n",
    "                if '-ve' in ModelLabelled[word]:\n",
    "                    ModelLabelled[word]['-ve'] +=1/pos\n",
    "                else:\n",
    "                    ModelLabelled[word]['-ve']=1/pos\n",
    "            else:\n",
    "                ModelLabelled[word] = {'-ve':1/pos}\n",
    "                \n",
    "    ##Write code to return ModelLabelled\n",
    "    return ModelLabelled"
   ]
  },
  {
   "cell_type": "code",
   "execution_count": 118,
   "metadata": {},
   "outputs": [
    {
     "data": {
      "text/plain": [
       "{'like': {'+ve': 0.25},\n",
       " 'movie': {'+ve': 0.75, '-ve': 0.75},\n",
       " 'ending': {'+ve': 0.25},\n",
       " 'want': {'+ve': 0.25},\n",
       " 'go': {'+ve': 0.25},\n",
       " 'outside': {'+ve': 0.25},\n",
       " 'weather': {'+ve': 0.25},\n",
       " 'nice': {'+ve': 0.25},\n",
       " 'apt': {'+ve': 0.25},\n",
       " 'kids': {'+ve': 0.25, '-ve': 0.25},\n",
       " 'great': {'+ve': 0.25},\n",
       " 'hate': {'-ve': 0.25},\n",
       " 'r': {'-ve': 0.25},\n",
       " 'rated': {'-ve': 0.25},\n",
       " 'hence': {'-ve': 0.25},\n",
       " 'unsuitable': {'-ve': 0.25},\n",
       " 'working': {'-ve': 0.25},\n",
       " 'long': {'-ve': 0.25},\n",
       " 'hours': {'-ve': 0.25},\n",
       " 'necessarily': {'-ve': 0.25},\n",
       " 'smart': {'-ve': 0.25},\n",
       " 'atrocious': {'-ve': 0.25}}"
      ]
     },
     "execution_count": 118,
     "metadata": {},
     "output_type": "execute_result"
    }
   ],
   "source": [
    "train(labdata)"
   ]
  },
  {
   "cell_type": "code",
   "execution_count": 123,
   "metadata": {},
   "outputs": [],
   "source": [
    "'''\n",
    "Complete this function. Given the model formed and a list of words (Bag Of Words) return whether it is positive or negative\n",
    "'''\n",
    "def classify(ModelLabelled, feature):\n",
    "        '''\n",
    "        Given a set of  features identify which class it belongs to\n",
    "        Logic:\n",
    "        For each class,\n",
    "        for each feature, check whether that word is found in the ModelLabelled [class]. If it is \n",
    "        found multiply to previ product, else multiple with a very smallVal called smallVal\n",
    "        which ever class'product is greater the feature belongs to that class\n",
    "    I like cricket:\n",
    "    I hate volleyball: \n",
    "    {\"I\": {\"+ve\": 2/3, \"-ve\": 1/2},\n",
    "    {\"hate\": {\"-ve\": 1/2}}\n",
    "    \"like\": {\"+ve\": 2/3},\n",
    "    \"movie: {\"+ve\",1/3},\n",
    "    ënding\": {\"+ve\":1/3}\n",
    "    Current+Prob = 2/3*2/3*n=4/9n\n",
    "    Current-Prob = 1/2*n*n=1/2 n*n\n",
    "        '''\n",
    "        ## Write code to calculate the sentiment\n",
    "        smallVal = 0.000000001\n",
    "        posval = negval =1\n",
    "        for word in ModelLabelled.keys():\n",
    "            if word in feature:\n",
    "                if '+ve' in ModelLabelled[word]:\n",
    "                    posval *= ModelLabelled[word]['+ve']\n",
    "                else:\n",
    "                    posval *= smallVal\n",
    "                if '-ve' in ModelLabelled[word]:\n",
    "                    negval *=ModelLabelled[word]['-ve']\n",
    "                else:\n",
    "                    negval *= smallVal\n",
    "        if negval > posval:\n",
    "            sentiment = 'Negative'\n",
    "        elif negval < posval:\n",
    "            sentiment = 'Positive'\n",
    "        else:\n",
    "            sentiment = 'Neutral'\n",
    "            \n",
    "        return sentiment,posval,negval#The sentiment that has higher score"
   ]
  },
  {
   "cell_type": "code",
   "execution_count": 86,
   "metadata": {},
   "outputs": [],
   "source": [
    "import nltk\n",
    "from nltk.corpus import stopwords\n",
    "stpw = stopwords.words('english')"
   ]
  },
  {
   "cell_type": "code",
   "execution_count": 112,
   "metadata": {},
   "outputs": [],
   "source": [
    "labdata = {} \n",
    "posFeatureArray = \\\n",
    " [\n",
    "                    [i for i in (\"I like this movie ending\").lower().split() if i not in stpw],\n",
    "                    [i for i in (\"I want to go outside as the weather is nice\").lower().split() if i not in stpw],\n",
    "                    [i for i in (\"this movie is apt for kids\").lower().split() if i not in stpw], \n",
    "                    [i for i in (\"the movie is great\").lower().split() if i not in stpw]\n",
    " ]\n",
    "negFeatureArray = \\\n",
    " [\n",
    "                    [i for i in (\"I hate this movie\").lower().split() if i not in stpw],\n",
    "                    [i for i in (\"this movie is R Rated and hence unsuitable for kids\").lower().split() if i not in stpw],\n",
    "                    [i for i in (\"working long hours is not necessarily smart\").lower().split() if i not in stpw], \n",
    "                    [i for i in(\"the movie was atrocious\").lower().split() if i not in stpw]\n",
    " ]"
   ]
  },
  {
   "cell_type": "code",
   "execution_count": 116,
   "metadata": {},
   "outputs": [
    {
     "data": {
      "text/plain": [
       "{'positive': [['like', 'movie', 'ending'],\n",
       "  ['want', 'go', 'outside', 'weather', 'nice'],\n",
       "  ['movie', 'apt', 'kids'],\n",
       "  ['movie', 'great']],\n",
       " 'negative': [['hate', 'movie'],\n",
       "  ['movie', 'r', 'rated', 'hence', 'unsuitable', 'kids'],\n",
       "  ['working', 'long', 'hours', 'necessarily', 'smart'],\n",
       "  ['movie', 'atrocious']]}"
      ]
     },
     "execution_count": 116,
     "metadata": {},
     "output_type": "execute_result"
    }
   ],
   "source": [
    "labdata"
   ]
  },
  {
   "cell_type": "code",
   "execution_count": 126,
   "metadata": {},
   "outputs": [
    {
     "name": "stdout",
     "output_type": "stream",
     "text": [
      "Movie 2.0 has great special effects ['movie', '2.0', 'has', 'great', 'special', 'effects']\n",
      " the sentence: Movie 2.0 has great special effects is ('Positive', 0.1875, 7.500000000000001e-10)\n",
      "In the end all turned out great ['in', 'the', 'end', 'all', 'turned', 'out', 'great']\n",
      " the sentence: In the end all turned out great is ('Positive', 0.25, 1e-09)\n",
      "atrocious data nice is harmful ['atrocious', 'data', 'nice', 'is', 'harmful']\n",
      " the sentence: atrocious data nice is harmful is ('Neutral', 2.5e-10, 2.5e-10)\n"
     ]
    }
   ],
   "source": [
    "labdata[\"positive\"] = posFeatureArray\n",
    "labdata[\"negative\"] = negFeatureArray\n",
    "ML = train(labdata)\n",
    "test = [\"Movie 2.0 has great special effects\"  , \"In the end all turned out great\",\"atrocious data is harmful\"]\n",
    "\n",
    "for t in test:\n",
    "    print (t, t.lower().split())\n",
    "    print (\" the sentence:\", t, \"is\", classify(ML, feature = t.lower().split()))\n",
    "#print(ML)"
   ]
  },
  {
   "cell_type": "code",
   "execution_count": null,
   "metadata": {},
   "outputs": [],
   "source": []
  }
 ],
 "metadata": {
  "kernelspec": {
   "display_name": "Python 3",
   "language": "python",
   "name": "python3"
  },
  "language_info": {
   "codemirror_mode": {
    "name": "ipython",
    "version": 3
   },
   "file_extension": ".py",
   "mimetype": "text/x-python",
   "name": "python",
   "nbconvert_exporter": "python",
   "pygments_lexer": "ipython3",
   "version": "3.7.6"
  }
 },
 "nbformat": 4,
 "nbformat_minor": 2
}
